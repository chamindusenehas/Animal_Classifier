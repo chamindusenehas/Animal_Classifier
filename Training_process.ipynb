{
 "cells": [
  {
   "cell_type": "markdown",
   "id": "b1daf3b5-3141-4d33-8eb2-511d87b31483",
   "metadata": {
    "id": "b1daf3b5-3141-4d33-8eb2-511d87b31483"
   },
   "source": [
    "<h1><b>Preprocessing and augmentation</b></h1>"
   ]
  },
  {
   "cell_type": "code",
   "execution_count": 1,
   "id": "6e2b31f1-3a49-436f-80cf-415648ab0cec",
   "metadata": {
    "colab": {
     "base_uri": "https://localhost:8080/"
    },
    "id": "6e2b31f1-3a49-436f-80cf-415648ab0cec",
    "outputId": "db1e900a-ea32-49a3-e369-17b487baee27"
   },
   "outputs": [
    {
     "name": "stdout",
     "output_type": "stream",
     "text": [
      "Requirement already satisfied: split-folders in d:\\programs\\anaconda_distribution\\envs\\tf\\lib\\site-packages (0.5.1)\n"
     ]
    }
   ],
   "source": [
    "from tensorflow.keras.preprocessing.image import ImageDataGenerator\n",
    "import splitfolders"
   ]
  },
  {
   "cell_type": "code",
   "execution_count": 3,
   "id": "8e2fd076-d436-43c4-ac9a-92006967e537",
   "metadata": {
    "colab": {
     "base_uri": "https://localhost:8080/"
    },
    "id": "8e2fd076-d436-43c4-ac9a-92006967e537",
    "outputId": "9a3e00b9-19c4-4f34-9df2-597a9cc855e8"
   },
   "outputs": [],
   "source": [
    "splitfolders.ratio(\n",
    "    'dataset',\n",
    "    output='train_val_test',\n",
    "    seed=42,\n",
    "    ratio=(0.7, 0.15, 0.15),\n",
    "    group_prefix=None,\n",
    "    move=False\n",
    ")"
   ]
  },
  {
   "cell_type": "code",
   "execution_count": 4,
   "id": "e5d66132-5e32-48e3-9cdc-b4f9dccb2553",
   "metadata": {
    "id": "e5d66132-5e32-48e3-9cdc-b4f9dccb2553"
   },
   "outputs": [],
   "source": [
    "from tensorflow.keras.preprocessing.image import ImageDataGenerator\n",
    "from tensorflow.keras.applications.efficientnet import preprocess_input\n",
    "\n",
    "train_datagen = ImageDataGenerator(\n",
    "    preprocessing_function=preprocess_input,\n",
    "    rotation_range=45,\n",
    "    width_shift_range=0.3,\n",
    "    height_shift_range=0.3,\n",
    "    shear_range=0.3,\n",
    "    zoom_range=0.3,\n",
    "    horizontal_flip=True,\n",
    "    vertical_flip=True,\n",
    "    brightness_range=[0.7, 1.3],\n",
    "    fill_mode='nearest'\n",
    ")\n",
    "val_datagen = ImageDataGenerator(preprocessing_function=preprocess_input)\n",
    "test_datagen = ImageDataGenerator(preprocessing_function=preprocess_input)"
   ]
  },
  {
   "cell_type": "code",
   "execution_count": 5,
   "id": "a2c0f927-0671-46d5-8bb4-5446b5b40dc5",
   "metadata": {
    "colab": {
     "base_uri": "https://localhost:8080/"
    },
    "id": "a2c0f927-0671-46d5-8bb4-5446b5b40dc5",
    "outputId": "8515ef4d-39e3-4172-a0ba-34b4b52b7cf3"
   },
   "outputs": [
    {
     "name": "stdout",
     "output_type": "stream",
     "text": [
      "Found 1354 images belonging to 15 classes.\n",
      "Found 284 images belonging to 15 classes.\n",
      "Found 306 images belonging to 15 classes.\n"
     ]
    }
   ],
   "source": [
    "train_generator = train_datagen.flow_from_directory(\n",
    "    'train_val_test/train',\n",
    "    target_size=(224, 224),\n",
    "    batch_size=32,\n",
    "    class_mode='categorical'\n",
    ")\n",
    "\n",
    "val_generator = val_datagen.flow_from_directory(\n",
    "    'train_val_test/val',\n",
    "    target_size=(224, 224),\n",
    "    batch_size=32,\n",
    "    class_mode='categorical'\n",
    ")\n",
    "\n",
    "test_generator = test_datagen.flow_from_directory(\n",
    "    'train_val_test/test',\n",
    "    target_size=(224, 224),\n",
    "    batch_size=32,\n",
    "    class_mode='categorical',\n",
    "    shuffle=False\n",
    ")"
   ]
  },
  {
   "cell_type": "code",
   "execution_count": 6,
   "id": "tGPEakWSlUhd",
   "metadata": {
    "id": "tGPEakWSlUhd"
   },
   "outputs": [],
   "source": [
    "from tensorflow.keras.applications.efficientnet import preprocess_input\n",
    "train_generator = preprocess_input(train_generator)\n",
    "val_generator = preprocess_input(val_generator)"
   ]
  },
  {
   "cell_type": "code",
   "execution_count": 7,
   "id": "U2IMDIl2v2sG",
   "metadata": {
    "colab": {
     "base_uri": "https://localhost:8080/",
     "height": 17
    },
    "id": "U2IMDIl2v2sG",
    "outputId": "1ac33e6f-df65-4340-f522-00b76fb5198a"
   },
   "outputs": [],
   "source": [
    "import json\n",
    "with open('class_names.json', 'w') as f:\n",
    "    json.dump(test_generator.class_indices, f)"
   ]
  },
  {
   "cell_type": "markdown",
   "id": "1af3cc33-146b-469b-8850-72668825246a",
   "metadata": {
    "id": "1af3cc33-146b-469b-8850-72668825246a"
   },
   "source": [
    "<h1><b>Build the model with transfer learning</b></h1>"
   ]
  },
  {
   "cell_type": "code",
   "execution_count": 8,
   "id": "32ab80ba-72b4-441c-8fcd-89a43fc3c176",
   "metadata": {
    "id": "32ab80ba-72b4-441c-8fcd-89a43fc3c176"
   },
   "outputs": [],
   "source": [
    "from tensorflow.keras.applications import EfficientNetB0\n",
    "from tensorflow.keras.layers import Dense, GlobalAveragePooling2D, Dropout\n",
    "from tensorflow.keras.models import Model\n",
    "from tensorflow.keras.optimizers import Adam\n",
    "from tensorflow.keras.regularizers import l2"
   ]
  },
  {
   "cell_type": "code",
   "execution_count": 9,
   "id": "62635a62-d25a-4e2c-990d-82f458150d49",
   "metadata": {
    "id": "62635a62-d25a-4e2c-990d-82f458150d49"
   },
   "outputs": [],
   "source": [
    " #load pre-trained model\n",
    "base_model = EfficientNetB0(\n",
    "    include_top=False,\n",
    "    weights='imagenet',\n",
    "    input_shape=(224, 224, 3)\n",
    ")\n",
    "base_model.trainable = False"
   ]
  },
  {
   "cell_type": "code",
   "execution_count": 10,
   "id": "8e23ac31-65d2-4b12-a665-4159110d56b1",
   "metadata": {
    "id": "8e23ac31-65d2-4b12-a665-4159110d56b1"
   },
   "outputs": [],
   "source": [
    "from tensorflow.keras.regularizers import l2\n",
    "\n",
    "#custom layers\n",
    "inputs = base_model.input\n",
    "x = GlobalAveragePooling2D()(base_model.output)\n",
    "x = Dense(256, activation='relu', kernel_regularizer=l2(0.001))(x)\n",
    "x = Dropout(0.5)(x)\n",
    "outputs = Dense(15, activation='softmax')(x)\n",
    "\n",
    "model = Model(inputs, outputs)"
   ]
  },
  {
   "cell_type": "code",
   "execution_count": 11,
   "id": "f2cff6a4-881d-42c4-b1bc-b424f4360a68",
   "metadata": {
    "id": "f2cff6a4-881d-42c4-b1bc-b424f4360a68"
   },
   "outputs": [],
   "source": [
    "#complie\n",
    "model.compile(\n",
    "    optimizer=Adam(learning_rate=1e-3),\n",
    "    loss='categorical_crossentropy',\n",
    "    metrics=['accuracy']\n",
    ")"
   ]
  },
  {
   "cell_type": "markdown",
   "id": "4c4041b3-3c33-421e-b690-cf84a2cec3bb",
   "metadata": {
    "id": "4c4041b3-3c33-421e-b690-cf84a2cec3bb"
   },
   "source": [
    "<h1><b>Train the model</b></h1>"
   ]
  },
  {
   "cell_type": "code",
   "execution_count": null,
   "id": "Oc9kdB-6dt8N",
   "metadata": {
    "id": "Oc9kdB-6dt8N"
   },
   "outputs": [
    {
     "name": "stdout",
     "output_type": "stream",
     "text": [
      "Requirement already satisfied: scikit-learn in d:\\programs\\anaconda_distribution\\envs\\tf\\lib\\site-packages (1.6.1)\n",
      "Requirement already satisfied: numpy>=1.19.5 in d:\\programs\\anaconda_distribution\\envs\\tf\\lib\\site-packages (from scikit-learn) (1.26.4)\n",
      "Requirement already satisfied: scipy>=1.6.0 in d:\\programs\\anaconda_distribution\\envs\\tf\\lib\\site-packages (from scikit-learn) (1.13.1)\n",
      "Requirement already satisfied: joblib>=1.2.0 in d:\\programs\\anaconda_distribution\\envs\\tf\\lib\\site-packages (from scikit-learn) (1.4.2)\n",
      "Requirement already satisfied: threadpoolctl>=3.1.0 in d:\\programs\\anaconda_distribution\\envs\\tf\\lib\\site-packages (from scikit-learn) (3.5.0)\n"
     ]
    }
   ],
   "source": [
    "!pip install scikit-learn\n",
    "from sklearn.utils.class_weight import compute_class_weight\n",
    "import numpy as np\n",
    "import tensorflow as tf\n",
    "\n",
    "class_weights = compute_class_weight(\n",
    "    'balanced',\n",
    "    classes=np.unique(train_generator.classes),\n",
    "    y=train_generator.classes\n",
    ")\n",
    "class_weights = dict(enumerate(class_weights))\n"
   ]
  },
  {
   "cell_type": "code",
   "execution_count": 13,
   "id": "af82d914-c2da-4168-87d9-4926fa7d1c9b",
   "metadata": {
    "colab": {
     "base_uri": "https://localhost:8080/"
    },
    "id": "af82d914-c2da-4168-87d9-4926fa7d1c9b",
    "outputId": "dccfd459-b908-495d-de4c-e39c3c376bf9"
   },
   "outputs": [
    {
     "name": "stdout",
     "output_type": "stream",
     "text": [
      "Epoch 1/20\n",
      "42/42 [==============================] - 30s 383ms/step - loss: 2.0721 - accuracy: 0.5182 - val_loss: 0.8623 - val_accuracy: 0.9258\n",
      "Epoch 2/20\n",
      "42/42 [==============================] - 13s 299ms/step - loss: 1.0773 - accuracy: 0.8222 - val_loss: 0.6115 - val_accuracy: 0.9688\n",
      "Epoch 3/20\n",
      "42/42 [==============================] - 13s 297ms/step - loss: 0.9151 - accuracy: 0.8593 - val_loss: 0.5853 - val_accuracy: 0.9609\n",
      "Epoch 4/20\n",
      "42/42 [==============================] - 13s 297ms/step - loss: 0.8178 - accuracy: 0.8722 - val_loss: 0.5295 - val_accuracy: 0.9766\n",
      "Epoch 5/20\n",
      "42/42 [==============================] - 12s 293ms/step - loss: 0.7261 - accuracy: 0.9107 - val_loss: 0.4847 - val_accuracy: 0.9883\n",
      "Epoch 6/20\n",
      "42/42 [==============================] - 12s 292ms/step - loss: 0.7056 - accuracy: 0.9009 - val_loss: 0.4675 - val_accuracy: 0.9883\n",
      "Epoch 7/20\n",
      "42/42 [==============================] - 12s 289ms/step - loss: 0.6634 - accuracy: 0.9145 - val_loss: 0.4392 - val_accuracy: 0.9922\n",
      "Epoch 8/20\n",
      "42/42 [==============================] - 13s 302ms/step - loss: 0.6098 - accuracy: 0.9297 - val_loss: 0.4288 - val_accuracy: 0.9922\n",
      "Epoch 9/20\n",
      "42/42 [==============================] - 14s 340ms/step - loss: 0.6014 - accuracy: 0.9293 - val_loss: 0.4171 - val_accuracy: 0.9883\n",
      "Epoch 10/20\n",
      "42/42 [==============================] - 14s 323ms/step - loss: 0.5609 - accuracy: 0.9387 - val_loss: 0.3966 - val_accuracy: 0.9922\n",
      "Epoch 11/20\n",
      "42/42 [==============================] - 13s 311ms/step - loss: 0.5468 - accuracy: 0.9327 - val_loss: 0.3985 - val_accuracy: 0.9883\n",
      "Epoch 12/20\n",
      "42/42 [==============================] - 14s 348ms/step - loss: 0.5531 - accuracy: 0.9349 - val_loss: 0.3691 - val_accuracy: 0.9961\n",
      "Epoch 13/20\n",
      "42/42 [==============================] - 14s 329ms/step - loss: 0.5241 - accuracy: 0.9334 - val_loss: 0.3615 - val_accuracy: 0.9961\n",
      "Epoch 14/20\n",
      "42/42 [==============================] - 13s 315ms/step - loss: 0.5025 - accuracy: 0.9440 - val_loss: 0.3460 - val_accuracy: 0.9961\n",
      "Epoch 15/20\n",
      "42/42 [==============================] - 13s 310ms/step - loss: 0.4985 - accuracy: 0.9448 - val_loss: 0.3494 - val_accuracy: 0.9922\n",
      "Epoch 16/20\n",
      "42/42 [==============================] - 13s 312ms/step - loss: 0.4429 - accuracy: 0.9531 - val_loss: 0.3347 - val_accuracy: 0.9922\n",
      "Epoch 17/20\n",
      "42/42 [==============================] - 14s 320ms/step - loss: 0.4815 - accuracy: 0.9380 - val_loss: 0.3234 - val_accuracy: 0.9922\n",
      "Epoch 18/20\n",
      "42/42 [==============================] - 14s 325ms/step - loss: 0.4496 - accuracy: 0.9470 - val_loss: 0.3238 - val_accuracy: 0.9844\n",
      "Epoch 19/20\n",
      "42/42 [==============================] - 14s 329ms/step - loss: 0.4292 - accuracy: 0.9523 - val_loss: 0.3201 - val_accuracy: 0.9844\n",
      "Epoch 20/20\n",
      "42/42 [==============================] - 15s 346ms/step - loss: 0.4406 - accuracy: 0.9463 - val_loss: 0.3105 - val_accuracy: 0.9883\n"
     ]
    }
   ],
   "source": [
    "history = model.fit(\n",
    "    train_generator,\n",
    "    steps_per_epoch=train_generator.samples // 32,\n",
    "    epochs=20,\n",
    "    validation_data=val_generator,\n",
    "    validation_steps=val_generator.samples // 32,\n",
    "    class_weight=class_weights,\n",
    "    callbacks=[\n",
    "        tf.keras.callbacks.EarlyStopping(patience=5, restore_best_weights=True)\n",
    "    ]\n",
    ")"
   ]
  },
  {
   "cell_type": "markdown",
   "id": "b6ee3862-135a-4396-a43b-9f9a1c4f962d",
   "metadata": {
    "id": "b6ee3862-135a-4396-a43b-9f9a1c4f962d"
   },
   "source": [
    "<h1><b>Fine tuning</b></h1>"
   ]
  },
  {
   "cell_type": "code",
   "execution_count": 14,
   "id": "68f19034-391c-4506-adcc-d5613e786209",
   "metadata": {
    "colab": {
     "base_uri": "https://localhost:8080/"
    },
    "id": "68f19034-391c-4506-adcc-d5613e786209",
    "outputId": "921d2d36-6994-408b-ae33-19b068843580"
   },
   "outputs": [
    {
     "name": "stdout",
     "output_type": "stream",
     "text": [
      "Epoch 1/30\n",
      "42/42 [==============================] - 19s 317ms/step - loss: 0.6120 - accuracy: 0.8986 - val_loss: 0.2897 - val_accuracy: 0.9961\n",
      "Epoch 2/30\n",
      "42/42 [==============================] - 13s 314ms/step - loss: 0.4642 - accuracy: 0.9440 - val_loss: 0.2790 - val_accuracy: 1.0000\n",
      "Epoch 3/30\n",
      "42/42 [==============================] - 13s 316ms/step - loss: 0.3860 - accuracy: 0.9652 - val_loss: 0.2738 - val_accuracy: 1.0000\n",
      "Epoch 4/30\n",
      "42/42 [==============================] - 14s 328ms/step - loss: 0.3716 - accuracy: 0.9682 - val_loss: 0.2698 - val_accuracy: 1.0000\n",
      "Epoch 5/30\n",
      "42/42 [==============================] - 14s 336ms/step - loss: 0.3620 - accuracy: 0.9713 - val_loss: 0.2672 - val_accuracy: 1.0000\n",
      "Epoch 6/30\n",
      "42/42 [==============================] - 14s 332ms/step - loss: 0.3388 - accuracy: 0.9766 - val_loss: 0.2674 - val_accuracy: 1.0000\n",
      "Epoch 7/30\n",
      "42/42 [==============================] - 15s 357ms/step - loss: 0.3262 - accuracy: 0.9796 - val_loss: 0.2672 - val_accuracy: 0.9961\n"
     ]
    }
   ],
   "source": [
    "base_model.trainable = True\n",
    "for layer in base_model.layers[:100]:\n",
    "    layer.trainable = False\n",
    "\n",
    "model.compile(\n",
    "    optimizer=Adam(learning_rate=0.0001),\n",
    "    loss='categorical_crossentropy',\n",
    "    metrics=['accuracy']\n",
    ")\n",
    "\n",
    "history_fine = model.fit(\n",
    "    train_generator,\n",
    "    steps_per_epoch=train_generator.samples // 32,\n",
    "    epochs=30,\n",
    "    validation_data=val_generator,\n",
    "    validation_steps=val_generator.samples // 32,\n",
    "    class_weight=class_weights,\n",
    "    callbacks=[tf.keras.callbacks.EarlyStopping(patience=2, restore_best_weights=True)]\n",
    ")"
   ]
  },
  {
   "cell_type": "markdown",
   "id": "9U6AaMQs3Qj2",
   "metadata": {
    "id": "9U6AaMQs3Qj2"
   },
   "source": [
    "<h1><b>Plot & Evaluate"
   ]
  },
  {
   "cell_type": "code",
   "execution_count": 17,
   "id": "ojA7BB4bLQc1",
   "metadata": {
    "colab": {
     "base_uri": "https://localhost:8080/",
     "height": 430
    },
    "id": "ojA7BB4bLQc1",
    "outputId": "5f69a5aa-f00e-4cb7-8da2-7bf099fb65bf"
   },
   "outputs": [
    {
     "name": "stdout",
     "output_type": "stream",
     "text": [
      "Requirement already satisfied: matplotlib in d:\\programs\\anaconda_distribution\\envs\\tf\\lib\\site-packages (3.9.4)\n",
      "Requirement already satisfied: contourpy>=1.0.1 in d:\\programs\\anaconda_distribution\\envs\\tf\\lib\\site-packages (from matplotlib) (1.3.0)\n",
      "Requirement already satisfied: cycler>=0.10 in d:\\programs\\anaconda_distribution\\envs\\tf\\lib\\site-packages (from matplotlib) (0.12.1)\n",
      "Requirement already satisfied: fonttools>=4.22.0 in d:\\programs\\anaconda_distribution\\envs\\tf\\lib\\site-packages (from matplotlib) (4.56.0)\n",
      "Requirement already satisfied: kiwisolver>=1.3.1 in d:\\programs\\anaconda_distribution\\envs\\tf\\lib\\site-packages (from matplotlib) (1.4.7)\n",
      "Requirement already satisfied: numpy>=1.23 in d:\\programs\\anaconda_distribution\\envs\\tf\\lib\\site-packages (from matplotlib) (1.26.4)\n",
      "Requirement already satisfied: packaging>=20.0 in d:\\programs\\anaconda_distribution\\envs\\tf\\lib\\site-packages (from matplotlib) (24.2)\n",
      "Requirement already satisfied: pillow>=8 in d:\\programs\\anaconda_distribution\\envs\\tf\\lib\\site-packages (from matplotlib) (11.1.0)\n",
      "Requirement already satisfied: pyparsing>=2.3.1 in d:\\programs\\anaconda_distribution\\envs\\tf\\lib\\site-packages (from matplotlib) (3.2.1)\n",
      "Requirement already satisfied: python-dateutil>=2.7 in d:\\programs\\anaconda_distribution\\envs\\tf\\lib\\site-packages (from matplotlib) (2.9.0.post0)\n",
      "Requirement already satisfied: importlib-resources>=3.2.0 in d:\\programs\\anaconda_distribution\\envs\\tf\\lib\\site-packages (from matplotlib) (6.5.2)\n",
      "Requirement already satisfied: zipp>=3.1.0 in d:\\programs\\anaconda_distribution\\envs\\tf\\lib\\site-packages (from importlib-resources>=3.2.0->matplotlib) (3.21.0)\n",
      "Requirement already satisfied: six>=1.5 in d:\\programs\\anaconda_distribution\\envs\\tf\\lib\\site-packages (from python-dateutil>=2.7->matplotlib) (1.16.0)\n"
     ]
    },
    {
     "data": {
      "image/png": "[encoded data removed]",
      "text/plain": [
       "<Figure size 640x480 with 1 Axes>"
      ]
     },
     "metadata": {},
     "output_type": "display_data"
    }
   ],
   "source": [
    "import matplotlib.pyplot as plt\n",
    "\n",
    "# Plot accuracy\n",
    "plt.plot(history.history['accuracy'] + history_fine.history['accuracy'], label='Training Accuracy')\n",
    "plt.plot(history.history['val_accuracy'] + history_fine.history['val_accuracy'], label='Validation Accuracy')\n",
    "plt.legend()\n",
    "plt.show()"
   ]
  },
  {
   "cell_type": "code",
   "execution_count": 18,
   "id": "bcd77910-540c-49d4-a627-6e2ed9ecf703",
   "metadata": {
    "colab": {
     "base_uri": "https://localhost:8080/"
    },
    "id": "bcd77910-540c-49d4-a627-6e2ed9ecf703",
    "outputId": "03275661-b93e-49c5-b0d4-bf353b2d79ba"
   },
   "outputs": [
    {
     "name": "stdout",
     "output_type": "stream",
     "text": [
      "9/9 [==============================] - 2s 210ms/step - loss: 0.2664 - accuracy: 1.0000\n",
      "Test Accuracy: 100.00%\n"
     ]
    }
   ],
   "source": [
    "# Evaluate\n",
    "loss, accuracy = model.evaluate(test_generator, steps=test_generator.samples // 32)\n",
    "print(f'Test Accuracy: {accuracy * 100:.2f}%')"
   ]
  },
  {
   "cell_type": "code",
   "execution_count": 19,
   "id": "8b97947b-38ac-4dee-9d84-8f66e6b348e5",
   "metadata": {
    "colab": {
     "base_uri": "https://localhost:8080/"
    },
    "id": "8b97947b-38ac-4dee-9d84-8f66e6b348e5",
    "outputId": "eb627c67-5d0b-40f1-ca73-5c99882d99a2"
   },
   "outputs": [
    {
     "name": "stdout",
     "output_type": "stream",
     "text": [
      "10/10 [==============================] - 2s 137ms/step\n",
      "              precision    recall  f1-score   support\n",
      "\n",
      "        Bear       1.00      1.00      1.00        20\n",
      "        Bird       1.00      1.00      1.00        22\n",
      "         Cat       1.00      1.00      1.00        19\n",
      "         Cow       1.00      1.00      1.00        21\n",
      "        Deer       1.00      1.00      1.00        20\n",
      "         Dog       1.00      1.00      1.00        19\n",
      "     Dolphin       1.00      1.00      1.00        20\n",
      "    Elephant       1.00      1.00      1.00        21\n",
      "     Giraffe       1.00      1.00      1.00        20\n",
      "       Horse       1.00      1.00      1.00        20\n",
      "    Kangaroo       1.00      1.00      1.00        20\n",
      "        Lion       1.00      1.00      1.00        21\n",
      "       Panda       1.00      1.00      1.00        21\n",
      "       Tiger       1.00      1.00      1.00        20\n",
      "       Zebra       1.00      1.00      1.00        22\n",
      "\n",
      "    accuracy                           1.00       306\n",
      "   macro avg       1.00      1.00      1.00       306\n",
      "weighted avg       1.00      1.00      1.00       306\n",
      "\n"
     ]
    }
   ],
   "source": [
    "import numpy as np\n",
    "preds = model.predict(test_generator, steps=test_generator.samples // 32 + 1)\n",
    "pred_classes = np.argmax(preds, axis=1)\n",
    "true_classes = test_generator.classes\n",
    "from sklearn.metrics import classification_report\n",
    "print(classification_report(true_classes, pred_classes, target_names=test_generator.class_indices.keys()))"
   ]
  },
  {
   "cell_type": "code",
   "execution_count": 36,
   "id": "kJGslOPpuMEM",
   "metadata": {
    "colab": {
     "base_uri": "https://localhost:8080/"
    },
    "id": "kJGslOPpuMEM",
    "outputId": "bfc4cc05-c4b6-440a-a712-9e0bac0e4dee"
   },
   "outputs": [
    {
     "name": "stderr",
     "output_type": "stream",
     "text": [
      "WARNING:absl:You are saving your model as an HDF5 file via `model.save()` or `keras.saving.save_model(model)`. This file format is considered legacy. We recommend using instead the native Keras format, e.g. `model.save('my_model.keras')` or `keras.saving.save_model(model, 'my_model.keras')`. \n"
     ]
    }
   ],
   "source": [
    "model.save('animal_classifier_model.h5')"
   ]
  }
 ],
 "metadata": {
  "accelerator": "GPU",
  "colab": {
   "gpuType": "T4",
   "provenance": []
  },
  "kernelspec": {
   "display_name": "base",
   "language": "python",
   "name": "python3"
  },
  "language_info": {
   "codemirror_mode": {
    "name": "ipython",
    "version": 3
   },
   "file_extension": ".py",
   "mimetype": "text/x-python",
   "name": "python",
   "nbconvert_exporter": "python",
   "pygments_lexer": "ipython3",
   "version": "3.12.7"
  }
 },
 "nbformat": 4,
 "nbformat_minor": 5
}
